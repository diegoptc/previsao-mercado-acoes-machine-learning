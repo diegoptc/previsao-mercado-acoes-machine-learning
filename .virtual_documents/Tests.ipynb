get_ipython().getoutput("pip install pandas")
get_ipython().getoutput("pip install numpy")
get_ipython().getoutput("pip install jupyterlab-lsp")
get_ipython().getoutput("pip install scikit-learn")
get_ipython().getoutput("pip install tensorflow")
get_ipython().getoutput("pip install keras_cv")
get_ipython().getoutput("pip install matplotlib")


import pandas as pd
import numpy as np
import tensorflow as tf
from sklearn import svm
from sklearn.model_selection import train_test_split
from sklearn import metrics
from sklearn.preprocessing import StandardScaler
import keras_cv
import matplotlib.pyplot as plt


def getVariationClass(value):
    if value <= 0: return 0
    else: return 1


df = pd.read_csv('VALE3.SA.csv')
df = df[df['Volume'] != 0]
df = df.dropna()


# Adiciona variação do periodo seguinte e classe
df['Variation'] = ((df['Close'].shift(-1) / df['Close']) - 1) * 100
df['Variation Class'] = df.apply(lambda row: getVariationClass(row['Variation']), axis=1)
df = df.iloc[:-1]


#Treinamento
X = df[['Open', 'High', 'Low', 'Close', 'Volume']]
y = df['Variation Class'] 

X_train, X_test, y_train, y_test = train_test_split(X, y, test_size=0.3)

model = tf.keras.Sequential([
    tf.keras.layers.Input(shape=(X_train.shape[1],)),
    tf.keras.layers.Dense(1, activation='linear')
])
print(y_train)
model.compile(optimizer='adam', loss='hinge', metrics=['accuracy'])
model.fit(X_train, y_train, epochs=10, batch_size=32, validation_split=0.1)


y_pred = model.predict(X_test)
y_pred_binary = (y_pred > 0).astype(int)
accuracy = metrics.accuracy_score(y_test, y_pred_binary)


print(f'Accuracy: {accuracy * 100}%')


(len(y_test[y_test == 1]) / len(y_test)) * 100



