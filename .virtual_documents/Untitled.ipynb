import matplotlib.pyplot as plt
import numpy as np

# Dados de exemplo
categorias = ['Categoria A', 'Categoria B']
valores1 = [10, 15]  # Alturas da primeira barra
valores2 = [20, 25]  # Alturas da segunda barra

# Largura das barras
largura_barra = 0.35

# Posição das barras no eixo x
posicoes = np.arange(len(categorias))

# Criar o gráfico de barras
plt.bar(posicoes - largura_barra/2, valores1, largura_barra, label='Barra 1')
plt.bar(posicoes + largura_barra/2, valores2, largura_barra, label='Barra 2')

# Adicionar rótulos, título e legenda
plt.xlabel('Categorias')
plt.ylabel('Valores')
plt.title('Gráfico de Barras com Duas Barras')
plt.xticks(posicoes, categorias)
plt.legend()

# Mostrar o gráfico
plt.show()



